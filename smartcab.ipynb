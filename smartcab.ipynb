{
 "cells": [
  {
   "cell_type": "markdown",
   "id": "96f44e05-05ef-4b46-b6ea-9ca7abc291d9",
   "metadata": {},
   "source": [
    "# Smartcab from OpenAI Gym"
   ]
  },
  {
   "cell_type": "markdown",
   "id": "0881612a-989d-47d0-8211-44a29ab8558d",
   "metadata": {},
   "source": [
    "Code taken from (https://www.learndatasci.com/tutorials/reinforcement-q-learning-scratch-python-openai-gym/), using as a guide to practice and understand."
   ]
  },
  {
   "cell_type": "markdown",
   "id": "7001e7e5-3386-417f-a3e9-020abfeb8b26",
   "metadata": {},
   "source": [
    "\"There are 4 locations (labeled by different letters), and our job is to pick up the passenger at one location and drop him off at another. We receive +20 points for a successful drop-off and lose 1 point for every time-step it takes. There is also a 10 point penalty for illegal pick-up and drop-off actions.\""
   ]
  },
  {
   "cell_type": "code",
   "execution_count": 1,
   "id": "e23b0288-a124-4ebc-b475-3779ed4903d8",
   "metadata": {},
   "outputs": [],
   "source": [
    "import gym"
   ]
  },
  {
   "cell_type": "code",
   "execution_count": 5,
   "id": "f1cf68cc-da66-44ef-8b84-4bce9414402f",
   "metadata": {},
   "outputs": [
    {
     "name": "stdout",
     "output_type": "stream",
     "text": [
      "+---------+\n",
      "|R: | : :\u001b[35mG\u001b[0m|\n",
      "| : | : : |\n",
      "| : :\u001b[43m \u001b[0m: : |\n",
      "| | : | : |\n",
      "|\u001b[34;1mY\u001b[0m| : |B: |\n",
      "+---------+\n",
      "\n"
     ]
    }
   ],
   "source": [
    "env = gym.make(\"Taxi-v3\").env\n",
    "env.reset()\n",
    "env.render()"
   ]
  },
  {
   "cell_type": "code",
   "execution_count": 11,
   "id": "89b52b60-34b1-42e5-b554-8bcfa6f07fc0",
   "metadata": {},
   "outputs": [
    {
     "name": "stdout",
     "output_type": "stream",
     "text": [
      "State: 328\n",
      "+---------+\n",
      "|\u001b[35mR\u001b[0m: | : :G|\n",
      "| : | : : |\n",
      "| : : : : |\n",
      "| |\u001b[43m \u001b[0m: | : |\n",
      "|\u001b[34;1mY\u001b[0m| : |B: |\n",
      "+---------+\n",
      "\n"
     ]
    }
   ],
   "source": [
    "state = env.encode(3, 1, 2, 0) # (taxi row, taxi column, passenger index, destination index)\n",
    "print(\"State:\", state)\n",
    "env.s = state\n",
    "env.render()"
   ]
  },
  {
   "cell_type": "code",
   "execution_count": 12,
   "id": "7dd2a752-e176-49d7-8465-72bc6029176d",
   "metadata": {},
   "outputs": [
    {
     "data": {
      "text/plain": [
       "{0: [(1.0, 428, -1, False)],\n",
       " 1: [(1.0, 228, -1, False)],\n",
       " 2: [(1.0, 348, -1, False)],\n",
       " 3: [(1.0, 328, -1, False)],\n",
       " 4: [(1.0, 328, -10, False)],\n",
       " 5: [(1.0, 328, -10, False)]}"
      ]
     },
     "execution_count": 12,
     "metadata": {},
     "output_type": "execute_result"
    }
   ],
   "source": [
    "# Each reward value structure at a certain state: {action: [(probability, nextstate, reward, done)]}\n",
    "# States as rows and actions as columns.\n",
    "env.P[328]"
   ]
  },
  {
   "cell_type": "markdown",
   "id": "019e59e0-b448-4696-8ea5-349d1599e35a",
   "metadata": {},
   "source": [
    "## Without Reinforcement Learning"
   ]
  },
  {
   "cell_type": "code",
   "execution_count": 13,
   "id": "258b332b-101e-4944-9e6a-ac373b557069",
   "metadata": {},
   "outputs": [
    {
     "name": "stdout",
     "output_type": "stream",
     "text": [
      "Timesteps taken: 857\n",
      "Penalties incurred: 296\n"
     ]
    }
   ],
   "source": [
    "env.s = 328\n",
    "epochs = 0\n",
    "penalties, reward = 0, 0\n",
    "\n",
    "frames = []\n",
    "\n",
    "done = False\n",
    "\n",
    "while not done:\n",
    "    # Selects one random action from all possible actions\n",
    "    action = env.action_space.sample()\n",
    "    state, reward, done, info = env.step(action)\n",
    "\n",
    "    if reward == -10:\n",
    "        penalties += 1\n",
    "    \n",
    "    # Put each rendered frame into dict for animation\n",
    "    frames.append({\n",
    "        'frame': env.render(mode='ansi'),\n",
    "        'state': state,\n",
    "        'action': action,\n",
    "        'reward': reward\n",
    "        }\n",
    "    )\n",
    "\n",
    "    epochs += 1\n",
    "    \n",
    "print(\"Timesteps taken: {}\".format(epochs))\n",
    "print(\"Penalties incurred: {}\".format(penalties))"
   ]
  },
  {
   "cell_type": "code",
   "execution_count": 21,
   "id": "0799ef0a-cb2d-4968-9058-573e04038ede",
   "metadata": {},
   "outputs": [
    {
     "name": "stdout",
     "output_type": "stream",
     "text": [
      "+---------+\n",
      "|\u001b[35m\u001b[34;1m\u001b[43mR\u001b[0m\u001b[0m\u001b[0m: | : :G|\n",
      "| : | : : |\n",
      "| : : : : |\n",
      "| | : | : |\n",
      "|Y| : |B: |\n",
      "+---------+\n",
      "  (Dropoff)\n",
      "\n",
      "Timestep: 857\n",
      "State: 0\n",
      "Action: 5\n",
      "Reward: 20\n"
     ]
    }
   ],
   "source": [
    "from IPython.display import clear_output\n",
    "from time import sleep\n",
    "\n",
    "def print_frames(frames):\n",
    "    for i, frame in enumerate(frames):\n",
    "        clear_output(wait=True)\n",
    "        print(frame['frame'])\n",
    "        print(f\"Timestep: {i + 1}\")\n",
    "        print(f\"State: {frame['state']}\")\n",
    "        print(f\"Action: {frame['action']}\")\n",
    "        print(f\"Reward: {frame['reward']}\")\n",
    "        sleep(.1)\n",
    "        \n",
    "print_frames(frames)"
   ]
  },
  {
   "cell_type": "markdown",
   "id": "e09a6e6e-d3a8-4754-b2b2-2852a75eed7d",
   "metadata": {},
   "source": [
    "### Summary\n",
    "The agent takes a lot of timesteps before dropping the passenger off at the right location. \n",
    "This is happening because the agent is not storing past actions to inform decisions moving forward. "
   ]
  },
  {
   "cell_type": "markdown",
   "id": "ca1176da-1515-477a-960c-90737b680c5c",
   "metadata": {},
   "source": [
    "## With Reinforcement Learning"
   ]
  },
  {
   "cell_type": "markdown",
   "id": "24a1c45a-d0ba-48d7-8cda-ebd9a04e45f0",
   "metadata": {},
   "source": [
    "Q-learning introduces the Q-value, which uses the environment's rewards to learn over time. The values are stored in a Q-table which maps to each (state, action) pair and updates based on the reward taken from P for each action.\n",
    "\n",
    "Utilizing the Q-table, the agent will likely know the reward for performing \"pick-up\" when the passenger is at their current location is higher than other actions like \"drop off\""
   ]
  },
  {
   "cell_type": "code",
   "execution_count": 31,
   "id": "0b9b653b-ffab-4fe7-9b8e-e952227e9516",
   "metadata": {},
   "outputs": [
    {
     "name": "stdout",
     "output_type": "stream",
     "text": [
      "[[0. 0. 0. 0. 0. 0.]\n",
      " [0. 0. 0. 0. 0. 0.]\n",
      " [0. 0. 0. 0. 0. 0.]\n",
      " ...\n",
      " [0. 0. 0. 0. 0. 0.]\n",
      " [0. 0. 0. 0. 0. 0.]\n",
      " [0. 0. 0. 0. 0. 0.]]\n"
     ]
    }
   ],
   "source": [
    "import numpy as np\n",
    "# Q-tables are initialized as zero then updates after every action.\n",
    "q_table = np.zeros([env.observation_space.n, env.action_space.n])\n",
    "print(q_table)"
   ]
  },
  {
   "cell_type": "markdown",
   "id": "c262fe96-7ad3-4141-82e1-754a5b4cdb3a",
   "metadata": {},
   "source": [
    "### Training the agent"
   ]
  },
  {
   "cell_type": "code",
   "execution_count": 33,
   "id": "33c3e518-867a-41e7-a9c5-cbf75a7ce4cb",
   "metadata": {},
   "outputs": [
    {
     "name": "stdout",
     "output_type": "stream",
     "text": [
      "[[  0.           0.           0.           0.           0.\n",
      "    0.        ]\n",
      " [ -2.41837066  -2.3639511   -2.41837066  -2.3639511   -2.27325184\n",
      "  -11.3639511 ]\n",
      " [ -1.870144    -1.45024     -1.870144    -1.45024     -0.7504\n",
      "  -10.45024   ]\n",
      " ...\n",
      " [ -0.99674129   0.416       -0.99429209  -1.27803266  -6.04341703\n",
      "   -8.32753283]\n",
      " [ -2.15957885  -2.1220864   -2.18909716  -2.1220864   -8.26841755\n",
      "   -5.13979007]\n",
      " [  4.46221724   1.81752735   5.24855987  11.          -2.95546735\n",
      "   -3.0092534 ]]\n",
      "Episode: 100000\n",
      "Training finished.\n",
      "\n",
      "CPU times: user 27.7 s, sys: 2.65 s, total: 30.4 s\n",
      "Wall time: 28.4 s\n"
     ]
    }
   ],
   "source": [
    "%%time\n",
    "\n",
    "import random\n",
    "from IPython.display import clear_output\n",
    "\n",
    "# Hyperparameters\n",
    "alpha = 0.1 # Learning rate: extent to whch new information overrides old information, 0 = exploit -> 1 = explore.\n",
    "gamma = 0.6 # Discount factor: how much importance we give future rewards, 0 = immediate -> 1 = future.\n",
    "epsilon = 0.1 # Greediness factor\n",
    "\n",
    "# For plotting metrics\n",
    "all_epochs = []\n",
    "all_penalties = []\n",
    "\n",
    "# 100,000 episodes\n",
    "for i in range(1, 100001):\n",
    "    state = env.reset()\n",
    "    \n",
    "    epochs, penalties, reward, = 0, 0, 0\n",
    "    done = False\n",
    "    \n",
    "    # Determines which action to take by random choice\n",
    "    while not done:\n",
    "        if random.uniform(0, 1) < epsilon:\n",
    "            action = env.action_space.sample() # Explore action space\n",
    "        else:\n",
    "            action = np.argmax(q_table[state]) # Exploit learned values\n",
    "        \n",
    "        # Sets the next state as the observation of the environment \n",
    "        next_state, reward, done, info = env.step(action) \n",
    "        \n",
    "        # Storing the Q-value of the current state and action taken\n",
    "        old_value = q_table[state, action]\n",
    "        # Takes the max Q-value of all actions available based on the current state\n",
    "        next_max = np.max(q_table[next_state])\n",
    "        \n",
    "        # Computes the new value of the current state\n",
    "        new_value = (1 - alpha) * old_value + alpha * (reward + gamma * next_max)\n",
    "        # Adjusts the Q-value\n",
    "        q_table[state, action] = new_value\n",
    "        \n",
    "        if reward == -10:\n",
    "            penalties += 1\n",
    "        \n",
    "        # Sets the current state as the next state\n",
    "        state = next_state\n",
    "        epochs += 1\n",
    "\n",
    "    if i % 100 == 0:\n",
    "        clear_output(wait=True)\n",
    "        # Q-table updating after every episode.\n",
    "        print(q_table)\n",
    "        print(f\"Episode: {i}\")\n",
    "        \n",
    "print(\"Training finished.\\n\")"
   ]
  },
  {
   "cell_type": "code",
   "execution_count": 24,
   "id": "55c7da16-993b-4caf-8244-36251e4a0774",
   "metadata": {},
   "outputs": [
    {
     "data": {
      "text/plain": [
       "array([ -2.40166752,  -2.27325184,  -2.404524  ,  -2.36045761,\n",
       "       -10.32359512, -10.75220972])"
      ]
     },
     "execution_count": 24,
     "metadata": {},
     "output_type": "execute_result"
    }
   ],
   "source": [
    "q_table[328]"
   ]
  },
  {
   "cell_type": "markdown",
   "id": "569d18ae-e0ac-471e-9dca-1091f1363c8e",
   "metadata": {},
   "source": [
    "The max Q-value from the initial state in the array is -2.27, which means 'north' is the most optimal route."
   ]
  },
  {
   "cell_type": "markdown",
   "id": "19d89e26-74a9-4b68-adf2-e605371047da",
   "metadata": {},
   "source": [
    "## Evaluating the agent\n",
    "Using the Q-table from training."
   ]
  },
  {
   "cell_type": "code",
   "execution_count": 34,
   "id": "c298259e-0198-459b-b7e0-e5d5c7d70b4d",
   "metadata": {},
   "outputs": [
    {
     "name": "stdout",
     "output_type": "stream",
     "text": [
      "Results after 100 episodes:\n",
      "Average timesteps per episode: 13.61\n",
      "Average penalties per episode: 0.0\n"
     ]
    }
   ],
   "source": [
    "trained_frames = []\n",
    "\n",
    "total_epochs, total_penalties = 0, 0\n",
    "# Episodes are how many \"rounds\" we want the agent to go through until the goal is complete.\n",
    "episodes = 100\n",
    "\n",
    "for _ in range(episodes):\n",
    "    state = env.reset()\n",
    "    epochs, penalties, reward = 0, 0, 0\n",
    "    \n",
    "    done = False\n",
    "    \n",
    "    while not done:\n",
    "        # The first action will be a random one from the Q-table.\n",
    "        action = np.argmax(q_table[state])\n",
    "        \n",
    "        state, reward, done, info = env.step(action)\n",
    "        \n",
    "        if reward == -10:\n",
    "            penalties += 1\n",
    "\n",
    "        # Put each rendered frame into dict for animation\n",
    "        trained_frames.append({\n",
    "            'frame': env.render(mode='ansi'),\n",
    "            'state': state,\n",
    "            'action': action,\n",
    "            'reward': reward\n",
    "            }\n",
    "        )\n",
    "        \n",
    "        epochs += 1\n",
    "    \n",
    "    total_epochs += epochs\n",
    "    total_penalties += penalties\n",
    "\n",
    "print(f\"Results after {episodes} episodes:\")\n",
    "print(f\"Average timesteps per episode: {total_epochs / episodes}\")\n",
    "print(f\"Average penalties per episode: {total_penalties / episodes}\")"
   ]
  },
  {
   "cell_type": "markdown",
   "id": "7c53e409-6c8a-41af-b57e-406700f4bab2",
   "metadata": {},
   "source": [
    "### Visualization of the SmartCab using Q-learning"
   ]
  },
  {
   "cell_type": "code",
   "execution_count": 35,
   "id": "82811268-ee8c-4c42-831b-a7f825184b7b",
   "metadata": {},
   "outputs": [
    {
     "name": "stdout",
     "output_type": "stream",
     "text": [
      "+---------+\n",
      "|R: | : :\u001b[35m\u001b[34;1m\u001b[43mG\u001b[0m\u001b[0m\u001b[0m|\n",
      "| : | : : |\n",
      "| : : : : |\n",
      "| | : | : |\n",
      "|Y| : |B: |\n",
      "+---------+\n",
      "  (Dropoff)\n",
      "\n",
      "Timestep: 1361\n",
      "State: 85\n",
      "Action: 5\n",
      "Reward: 20\n"
     ]
    }
   ],
   "source": [
    "from IPython.display import clear_output\n",
    "from time import sleep\n",
    "print_frames(trained_frames)"
   ]
  },
  {
   "cell_type": "code",
   "execution_count": null,
   "id": "61336a9e-0370-41a4-baa7-7e4f1d77b352",
   "metadata": {},
   "outputs": [],
   "source": []
  }
 ],
 "metadata": {
  "kernelspec": {
   "display_name": "Python 3 (ipykernel)",
   "language": "python",
   "name": "python3"
  },
  "language_info": {
   "codemirror_mode": {
    "name": "ipython",
    "version": 3
   },
   "file_extension": ".py",
   "mimetype": "text/x-python",
   "name": "python",
   "nbconvert_exporter": "python",
   "pygments_lexer": "ipython3",
   "version": "3.7.11"
  }
 },
 "nbformat": 4,
 "nbformat_minor": 5
}
